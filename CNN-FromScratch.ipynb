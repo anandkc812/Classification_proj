{
 "cells": [
  {
   "cell_type": "code",
   "execution_count": 2,
   "metadata": {},
   "outputs": [
    {
     "name": "stderr",
     "output_type": "stream",
     "text": [
      "/home/leadsoc/anaconda3/lib/python3.6/site-packages/h5py/__init__.py:36: FutureWarning: Conversion of the second argument of issubdtype from `float` to `np.floating` is deprecated. In future, it will be treated as `np.float64 == np.dtype(float).type`.\n",
      "  from ._conv import register_converters as _register_converters\n",
      "Using TensorFlow backend.\n",
      "/home/leadsoc/anaconda3/lib/python3.6/site-packages/tensorflow/python/framework/dtypes.py:523: FutureWarning: Passing (type, 1) or '1type' as a synonym of type is deprecated; in a future version of numpy, it will be understood as (type, (1,)) / '(1,)type'.\n",
      "  _np_qint8 = np.dtype([(\"qint8\", np.int8, 1)])\n",
      "/home/leadsoc/anaconda3/lib/python3.6/site-packages/tensorflow/python/framework/dtypes.py:524: FutureWarning: Passing (type, 1) or '1type' as a synonym of type is deprecated; in a future version of numpy, it will be understood as (type, (1,)) / '(1,)type'.\n",
      "  _np_quint8 = np.dtype([(\"quint8\", np.uint8, 1)])\n",
      "/home/leadsoc/anaconda3/lib/python3.6/site-packages/tensorflow/python/framework/dtypes.py:525: FutureWarning: Passing (type, 1) or '1type' as a synonym of type is deprecated; in a future version of numpy, it will be understood as (type, (1,)) / '(1,)type'.\n",
      "  _np_qint16 = np.dtype([(\"qint16\", np.int16, 1)])\n",
      "/home/leadsoc/anaconda3/lib/python3.6/site-packages/tensorflow/python/framework/dtypes.py:526: FutureWarning: Passing (type, 1) or '1type' as a synonym of type is deprecated; in a future version of numpy, it will be understood as (type, (1,)) / '(1,)type'.\n",
      "  _np_quint16 = np.dtype([(\"quint16\", np.uint16, 1)])\n",
      "/home/leadsoc/anaconda3/lib/python3.6/site-packages/tensorflow/python/framework/dtypes.py:527: FutureWarning: Passing (type, 1) or '1type' as a synonym of type is deprecated; in a future version of numpy, it will be understood as (type, (1,)) / '(1,)type'.\n",
      "  _np_qint32 = np.dtype([(\"qint32\", np.int32, 1)])\n",
      "/home/leadsoc/anaconda3/lib/python3.6/site-packages/tensorflow/python/framework/dtypes.py:532: FutureWarning: Passing (type, 1) or '1type' as a synonym of type is deprecated; in a future version of numpy, it will be understood as (type, (1,)) / '(1,)type'.\n",
      "  np_resource = np.dtype([(\"resource\", np.ubyte, 1)])\n"
     ]
    }
   ],
   "source": [
    "import numpy as np \n",
    "import matplotlib.pyplot as plt\n",
    "from scipy import ndimage \n",
    "from keras.datasets import mnist \n",
    "from tqdm import tqdm_notebook #used for progress bar - how far through training we are\n",
    "\n"
   ]
  },
  {
   "cell_type": "code",
   "execution_count": 12,
   "metadata": {},
   "outputs": [],
   "source": [
    "\n",
    "def process_input(X,Y):\n",
    "    X = np.reshape(X,(X.shape[0], 28,28,1))\n",
    "    X= X/255 #normalise input features \n",
    "    \n",
    "    #print('initial', Y)\n",
    "    Y = np.eye(10)[Y.reshape(-1)].T #Y.reshape(-1) flattens the input to a 1D array\n",
    "    #in general np.eye(num_classes)[array].T will take a 1D array with m training examples, and \n",
    "    #one-hot encode it into a (num_classes,m) matrix\n",
    "    #print('after reshape', Y)\n",
    "    idx = np.random.permutation(np.arange(X.shape[0])) #shuffle indices\n",
    "    \n",
    "    X = X[idx]\n",
    "    Y = Y[:,idx]\n",
    "    \n",
    "    #print('after one hot')\n",
    "    \n",
    "    return X,Y\n"
   ]
  },
  {
   "cell_type": "markdown",
   "metadata": {},
   "source": [
    "# Y = np.array([0,3,2,0,1,2,3])\n",
    "Y = np.eye(5)[Y.reshape(-1)].T\n",
    "idx = np.random.permutation(len(Y)) #shuffle indices\n",
    "    \n",
    "print(Y)\n",
    "print(idx)\n",
    "print(Y[:,idx])\n",
    "\n"
   ]
  },
  {
   "cell_type": "markdown",
   "metadata": {},
   "source": [
    "# We can split the training set, so 10,000 of these examples are kept aside for our validation set.\n",
    "\n"
   ]
  },
  {
   "cell_type": "code",
   "execution_count": 14,
   "metadata": {},
   "outputs": [
    {
     "name": "stdout",
     "output_type": "stream",
     "text": [
      "initial [5 0 4 ... 5 6 8]\n",
      "after reshape [[0. 1. 0. ... 0. 0. 0.]\n",
      " [0. 0. 0. ... 0. 0. 0.]\n",
      " [0. 0. 0. ... 0. 0. 0.]\n",
      " ...\n",
      " [0. 0. 0. ... 0. 0. 0.]\n",
      " [0. 0. 0. ... 0. 0. 1.]\n",
      " [0. 0. 0. ... 0. 0. 0.]]\n",
      "after one hot\n",
      "initial [7 2 1 ... 4 5 6]\n",
      "after reshape [[0. 0. 0. ... 0. 0. 0.]\n",
      " [0. 0. 1. ... 0. 0. 0.]\n",
      " [0. 1. 0. ... 0. 0. 0.]\n",
      " ...\n",
      " [1. 0. 0. ... 0. 0. 0.]\n",
      " [0. 0. 0. ... 0. 0. 0.]\n",
      " [0. 0. 0. ... 0. 0. 0.]]\n",
      "after one hot\n"
     ]
    }
   ],
   "source": [
    "\n",
    "\n",
    "(x_train_dev, y_train_dev), (x_test, y_test) = mnist.load_data()\n",
    "\n",
    "x_train_dev, y_train_dev = process_input(x_train_dev, y_train_dev)\n",
    "\n",
    "x_train, y_train = x_train_dev[:-10000], y_train_dev[:,:-10000]\n",
    "x_dev, y_dev = x_train_dev[-10000:], y_train_dev[:,-10000:]\n",
    "\n",
    "x_test , y_test = process_input(x_test , y_test)\n"
   ]
  },
  {
   "cell_type": "markdown",
   "metadata": {},
   "source": [
    "# Convolution Forward, \n",
    "Currently only pad==same is supported"
   ]
  },
  {
   "cell_type": "code",
   "execution_count": 16,
   "metadata": {},
   "outputs": [
    {
     "ename": "SyntaxError",
     "evalue": "invalid syntax (<ipython-input-16-3a858d6174f4>, line 15)",
     "output_type": "error",
     "traceback": [
      "\u001b[0;36m  File \u001b[0;32m\"<ipython-input-16-3a858d6174f4>\"\u001b[0;36m, line \u001b[0;32m15\u001b[0m\n\u001b[0;31m    try: (filters_x == filters_w):\u001b[0m\n\u001b[0m                                  ^\u001b[0m\n\u001b[0;31mSyntaxError\u001b[0m\u001b[0;31m:\u001b[0m invalid syntax\n"
     ]
    }
   ],
   "source": [
    "\n",
    "\n",
    "def conv_forward(x, w, bias, stride=1, pad='same'):\n",
    "    \n",
    "    # x - is input\n",
    "    # w is weights\n",
    "    # b is bias\n",
    "    \n",
    "    \n",
    "    # extract dimensions\n",
    "    (row, column, filters_x)  = x.shape()\n",
    "    (width, height, filters_w) = w.shape()\n",
    "\n",
    "    \n",
    "    if (filters_x == filters_w):\n",
    "        if pad == 'same':\n",
    "           pd =  int(width/2)\n",
    "    else:\n",
    "        print(\"Exception ,filter size does not match\", filters_x, filters_w)\n",
    "        \n",
    "    row_out = row+pad\n",
    "    col_out = column+pad\n",
    "    f_w = filter_out = filters_w\n",
    "    \n",
    "    print(\"row, column, pd, row_out\", row, column, pd, row_out)\n",
    "    \n",
    "    y = np.zeros( row, column, filters)\n",
    "    \n",
    "    for r in range(0,row,stride):\n",
    "        \n",
    "        for c in range(0, column,stride):\n",
    "            \n",
    "            for f in range(filters_w):\n",
    "                \n",
    "                x_slice = x(r:r+f_w, c:c+f_w,f)\n",
    "                \n",
    "                y[r:r+f_w, c:c+f_w,f] = sum(x_slice*w[:,:,f])\n",
    "        \n",
    "        \n",
    "    return y\n",
    "    \n",
    "    \n",
    "    \n",
    "    "
   ]
  },
  {
   "cell_type": "code",
   "execution_count": null,
   "metadata": {},
   "outputs": [],
   "source": []
  }
 ],
 "metadata": {
  "kernelspec": {
   "display_name": "Python 3",
   "language": "python",
   "name": "python3"
  },
  "language_info": {
   "codemirror_mode": {
    "name": "ipython",
    "version": 3
   },
   "file_extension": ".py",
   "mimetype": "text/x-python",
   "name": "python",
   "nbconvert_exporter": "python",
   "pygments_lexer": "ipython3",
   "version": "3.6.5"
  }
 },
 "nbformat": 4,
 "nbformat_minor": 2
}
